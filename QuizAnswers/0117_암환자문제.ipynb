{
 "cells": [
  {
   "cell_type": "markdown",
   "metadata": {},
   "source": [
    "# Q1. 암환자 ML "
   ]
  },
  {
   "cell_type": "markdown",
   "metadata": {},
   "source": [
    "|       |  T  |  F  | Total |\n",
    "|:-----:|:---:|:---:|:-----:|\n",
    "| T     |  8  |   2 | 10    |\n",
    "| F     | 12  | 978 | 990   |\n",
    "| Total | 20  | 980 | 1000  |"
   ]
  },
  {
   "cell_type": "code",
   "execution_count": 19,
   "metadata": {
    "collapsed": false
   },
   "outputs": [],
   "source": [
    "TP = 8/10.0"
   ]
  },
  {
   "cell_type": "code",
   "execution_count": 20,
   "metadata": {
    "collapsed": true
   },
   "outputs": [],
   "source": [
    "FP = 2/10.0"
   ]
  },
  {
   "cell_type": "code",
   "execution_count": 21,
   "metadata": {
    "collapsed": true
   },
   "outputs": [],
   "source": [
    "TN = 978/990.0"
   ]
  },
  {
   "cell_type": "code",
   "execution_count": 22,
   "metadata": {
    "collapsed": true
   },
   "outputs": [],
   "source": [
    "FN = 12/990.0"
   ]
  },
  {
   "cell_type": "code",
   "execution_count": 23,
   "metadata": {
    "collapsed": false
   },
   "outputs": [
    {
     "name": "stdout",
     "output_type": "stream",
     "text": [
      "(' TP = ', 0.8)\n",
      "(' FP = ', 0.2)\n",
      "(' TN = ', 0.9878787878787879)\n",
      "(' FN = ', 0.012121212121212121)\n"
     ]
    }
   ],
   "source": [
    "print(\" TP = \", TP)\n",
    "print(\" FP = \", FP)\n",
    "print(\" TN = \", TN)\n",
    "print(\" FN = \", FN)\n"
   ]
  },
  {
   "cell_type": "code",
   "execution_count": 27,
   "metadata": {
    "collapsed": false
   },
   "outputs": [
    {
     "name": "stdout",
     "output_type": "stream",
     "text": [
      "(' Precision = %', 0.8)\n",
      "(' Recall = ', 0.9850746268656717)\n",
      "(' Accuracy = ', 0.0017878787878787882)\n"
     ]
    }
   ],
   "source": [
    "print(' Precision = ', TP/(TP + FP))\n",
    "print(\" Recall = \", TP/(TP + FN))\n",
    "print(\" Accuracy = \", (TP + TN)/1000)"
   ]
  },
  {
   "cell_type": "code",
   "execution_count": null,
   "metadata": {
    "collapsed": true
   },
   "outputs": [],
   "source": []
  },
  {
   "cell_type": "code",
   "execution_count": null,
   "metadata": {
    "collapsed": true
   },
   "outputs": [],
   "source": []
  }
 ],
 "metadata": {
  "kernelspec": {
   "display_name": "Python 2",
   "language": "python",
   "name": "python2"
  },
  "language_info": {
   "codemirror_mode": {
    "name": "ipython",
    "version": 2
   },
   "file_extension": ".py",
   "mimetype": "text/x-python",
   "name": "python",
   "nbconvert_exporter": "python",
   "pygments_lexer": "ipython2",
   "version": "2.7.11"
  }
 },
 "nbformat": 4,
 "nbformat_minor": 0
}
