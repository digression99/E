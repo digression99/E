{
  "cells": [
    {
      "metadata": {
        "trusted": true
      },
      "cell_type": "code",
      "source": "import random\nfrom math import exp\n\nrandom.random()\n\ndef gen(prob):\n    \n    r = random.random()\n#     r = random.uniform(0, 1)\n    \n    if r < prob: \n        return 1\n    else:\n        return 0\n    \ntotal = 10**6 # try others.\nsuccess = 0\n\nprob = 0.1\n\nfor i in range(total):\n    \n    if gen(prob):\n        prob = 0.1\n        success += 1\n    else:\n        prob += 0.01\n        \nprint(success/total)",
      "execution_count": 1,
      "outputs": [
        {
          "output_type": "stream",
          "text": "0.145999\n",
          "name": "stdout"
        }
      ]
    },
    {
      "metadata": {
        "trusted": true
      },
      "cell_type": "code",
      "source": "",
      "execution_count": null,
      "outputs": []
    }
  ],
  "metadata": {
    "kernelspec": {
      "name": "python3",
      "display_name": "Python 3",
      "language": "python"
    },
    "language_info": {
      "mimetype": "text/x-python",
      "nbconvert_exporter": "python",
      "name": "python",
      "pygments_lexer": "ipython3",
      "version": "3.5.4",
      "file_extension": ".py",
      "codemirror_mode": {
        "version": 3,
        "name": "ipython"
      }
    }
  },
  "nbformat": 4,
  "nbformat_minor": 2
}
